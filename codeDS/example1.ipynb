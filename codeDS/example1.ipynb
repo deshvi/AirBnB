{
 "cells": [
  {
   "cell_type": "markdown",
   "metadata": {},
   "source": [
    "In this example, we are trying to generate a CDF (Cumulitive Distrubution Function) for a price in Seattle."
   ]
  },
  {
   "cell_type": "code",
   "execution_count": 13,
   "metadata": {},
   "outputs": [],
   "source": [
    "import numpy as np\n",
    "import pandas as pd\n",
    "import matplotlib.pyplot as plt\n",
    "import matplotlib.dates as mdates\n",
    "import matplotlib.ticker as mticker\n",
    "from IPython import display\n",
    "import collections\n",
    "from time import time\n",
    "from itertools import chain\n",
    "import sklearn\n",
    "from sklearn.model_selection import train_test_split\n",
    "from sklearn.preprocessing import Imputer\n",
    "from sklearn.preprocessing import StandardScaler\n",
    "from sklearn.metrics import mean_squared_error\n",
    "from sklearn.linear_model import LinearRegression\n",
    "from sklearn.tree import DecisionTreeRegressor\n",
    "from sklearn.linear_model import LogisticRegression\n",
    "from sklearn.svm import SVR\n",
    "import seaborn as sns\n",
    "import qgrid\n",
    "import datetime\n",
    "import sympy as S\n",
    "import scipy\n",
    "#import probability"
   ]
  },
  {
   "cell_type": "code",
   "execution_count": 20,
   "metadata": {},
   "outputs": [],
   "source": [
    "# CSV import and price wrangling to convert it to numeric by removing $ and .\n",
    "pd.set_option('display.max_rows', 200)\n",
    "pd.set_option('display.max_columns', 200)\n",
    "pd.set_option('display.max_colwidth', 2000)\n",
    "\n",
    "data_list = pd.read_csv(\"../seattlelistings.csv\")\n",
    "data_cal = pd.read_csv(\"../seattlecalendar.csv\")\n",
    "data_rev = pd.read_csv(\"../seattlereviews.csv\")\n",
    "\n",
    "data_list['price'] = (data_list['price'].str.replace('$', ''))\n",
    "data_list['price'] = (data_list['price'].str.replace('.00', ''))\n",
    "\n",
    "data_list['price'] = pd.to_numeric(data_list['price'])\n",
    "\n",
    "data_cal['price'] = (data_cal['price'].str.replace('$', ''))\n",
    "data_cal['price'] = (data_cal['price'].str.replace('.00', ''))\n",
    "data_cal['price'] = (data_cal['price'].str.replace(',', ''))\n",
    "\n",
    "data_cal['price'] = pd.to_numeric(data_cal['price'])\n",
    "\n",
    "data_cal=data_cal.drop(columns='price')\n"
   ]
  },
  {
   "cell_type": "code",
   "execution_count": 21,
   "metadata": {},
   "outputs": [],
   "source": [
    "data_cal.rename(columns={'listing_id': 'id'},inplace=True)"
   ]
  },
  {
   "cell_type": "code",
   "execution_count": 22,
   "metadata": {},
   "outputs": [],
   "source": [
    "data_list=data_list[['id','price']]\n",
    "\n",
    "data_final = pd.merge(data_cal, data_list, how='left', on=['id'])"
   ]
  },
  {
   "cell_type": "code",
   "execution_count": 23,
   "metadata": {},
   "outputs": [],
   "source": [
    "result_price_xavailable=data_final[data_final['available']=='f']\n",
    "result_price_xavailable=result_price_xavailable.groupby('date')['price'].mean()"
   ]
  },
  {
   "cell_type": "code",
   "execution_count": 24,
   "metadata": {},
   "outputs": [],
   "source": [
    "# import of these custom libraries, courtesey Allan Downey from Thinkstats2.\n",
    "import thinkstats2\n",
    "import thinkplot"
   ]
  },
  {
   "cell_type": "code",
   "execution_count": 25,
   "metadata": {},
   "outputs": [],
   "source": [
    "cdf = thinkstats2.Cdf(data_list.price, label='Price')"
   ]
  },
  {
   "cell_type": "code",
   "execution_count": 26,
   "metadata": {},
   "outputs": [
    {
     "data": {
      "image/png": "[encoded data removed]",
      "text/plain": [
       "<Figure size 432x288 with 1 Axes>"
      ]
     },
     "metadata": {
      "needs_background": "light"
     },
     "output_type": "display_data"
    },
    {
     "data": {
      "text/plain": [
       "<Figure size 576x432 with 0 Axes>"
      ]
     },
     "metadata": {},
     "output_type": "display_data"
    }
   ],
   "source": [
    "thinkplot.PrePlot(2)\n",
    "thinkplot.Cdfs([cdf])\n",
    "thinkplot.Show(xlabel='Price', ylabel='CDF')"
   ]
  },
  {
   "cell_type": "code",
   "execution_count": null,
   "metadata": {},
   "outputs": [],
   "source": []
  }
 ],
 "metadata": {
  "kernelspec": {
   "display_name": "Python 3",
   "language": "python",
   "name": "python3"
  },
  "language_info": {
   "codemirror_mode": {
    "name": "ipython",
    "version": 3
   },
   "file_extension": ".py",
   "mimetype": "text/x-python",
   "name": "python",
   "nbconvert_exporter": "python",
   "pygments_lexer": "ipython3",
   "version": "3.7.4"
  }
 },
 "nbformat": 4,
 "nbformat_minor": 2
}
