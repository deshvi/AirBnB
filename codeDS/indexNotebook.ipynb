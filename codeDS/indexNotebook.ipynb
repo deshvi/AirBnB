{
 "cells": [
  {
   "cell_type": "markdown",
   "metadata": {},
   "source": [
    "This python notebook may be server as reference document for other ipynb notebooks, which serve specific task as explained below. All future work would be consolidated notebook.\n",
    "\n",
    "The objective of keeping separate notebooks, ipynb, due to the fact that this is my first published Data Science Assignment.\n",
    "\n",
    "1. example00 -\n",
    "In this example, we are trying to analyze following -\n",
    "\n",
    "If Neighbourhood influences prices.\n",
    "If There's a Correlation of \"guests included\" to prices by the neighbourhood.\n",
    "If There's a strong relationship of Guest's Review rating to responsive of the host.\n",
    "In essence, we conclude some business questions -\n",
    "\n",
    "Yes! Neighbourhood influences prices. Perspective business owners may take this into account before they make a business decision to buy a property to be listed for rental. They may desire to buy property in the neighbourhood which attract higher rentals.\n",
    "\n",
    "Following analysis tries to answer that those properties that \"include guests\" in their offering, likely to attract more visitors.\n",
    "\n",
    "Preceeding business analysis highlights the need of visitors who expect quicker feedback from the property management and are likely to give higher ratings to the property.\n",
    "\n",
    "2. example1 -\n",
    "In this example, we are trying to generate a CDF (Cumulitive Distrubution Function) for a prices in Seattle.\n",
    "\n",
    "Following example doesn't highlight any business question but it highlights the rental properties listing by price distribution. As it can be seen, maximum number of properties are on the marker in and around $200 price range.\n",
    "\n",
    "3. example2 -\n",
    "Seasonal variation of prices are demonstrated as below. As seen from the graph below, prices have peaked in March and except a peak in late June, prices remain low. Also, contrary to the perception, towards Christmas to New Year, prices have dipped.\n",
    "\n",
    "The graph below may help visitor to plan their travel to Greater Seattle area as demonstrated by the monthly variation. Generally, Jan-Mar shows increase of rental prices, post April, the prices have dipped significantly,\n",
    "\n",
    "4. example3 -\n",
    "The examples below have been bundled together & posted because both aspects are incomplete and inconclusive.\n",
    "\n",
    "Incomplete and inconclusive analysis about amenities which values most that attract visitor. Here my analysis remain incomplete. I am planning on working on it after the submission. This analysis demanded most of my time so far. I have pretty good idea as to how to proceed from here, it would take significant amount of time.\n",
    "\n",
    "I've generated pair plots. Although in this case, it doesn't conclude anything with degree of certainity due to size of dataset (\"number of columns\"). These plots would be helpful once we narrow down \"columns\".\n",
    "\n",
    "5. example5 -\n",
    "I am trying to demonstrate use of Linear Regression using Listings data. First, we are trying to get a rough idea and to demonstrate Regresssion analysis on all numeric features of Listings Data. Then, we train the model using sklearn on 20% of data and projected prices for the properties. Although, the results can't be proven beyond doubt that this model works best, the objective is to learn and demonstrate use of regression method. Lastly, I've saved the output from Test and Train datasets and ran some manual tests, it seems, predicted prices are generally influenced by various \"numeric features\".\n",
    "\n",
    "This analysis helps property owners to \"correctly\" price their properties to attract customers.\n",
    "\n",
    "6. map -\n",
    "Towards the end of this exercise, we're presented with following graphs.\n",
    "\n",
    "1.What matters to the customers when they shortlist the rentals? They look for cleanliness, Checking, communication and location.\n",
    "\n",
    "2.Neighbourhood vs prices. When a customer browse through the website, they are more likely to choose the neighbour hood which are close to the city center but generally, these properties are more expensive than the ones which are far from city center.\n",
    "\n",
    "Property Type vs. Prices has a strong correlation as shown in the graph.\n",
    "\n",
    "Next, the \"features\" such as Heating, TV, Wi-Fi are common features. Which property owners must pay attention to. Any compromise on any of these amenities may affect customers.\n",
    "\n",
    "Lastly, I've tried to generate a graph of prices using latitude/longitude vs. price. It clearly shows some locations are more expensive.\n"
   ]
  }
 ],
 "metadata": {
  "kernelspec": {
   "display_name": "Python 3",
   "language": "python",
   "name": "python3"
  },
  "language_info": {
   "codemirror_mode": {
    "name": "ipython",
    "version": 3
   },
   "file_extension": ".py",
   "mimetype": "text/x-python",
   "name": "python",
   "nbconvert_exporter": "python",
   "pygments_lexer": "ipython3",
   "version": "3.7.4"
  }
 },
 "nbformat": 4,
 "nbformat_minor": 2
}
